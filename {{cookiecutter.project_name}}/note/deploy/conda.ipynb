{
 "cells": [
  {
   "cell_type": "markdown",
   "metadata": {
    "Collapsed": "false"
   },
   "source": [
    "# Conda Environments"
   ]
  },
  {
   "cell_type": "markdown",
   "metadata": {
    "Collapsed": "false"
   },
   "source": [
    "## Imports"
   ]
  },
  {
   "cell_type": "code",
   "execution_count": 1,
   "metadata": {
    "Collapsed": "false"
   },
   "outputs": [],
   "source": [
    "import os\n",
    "from os.path import dirname\n",
    "\n",
    "import getpass\n",
    "import configparser\n",
    "import semantic_version"
   ]
  },
  {
   "cell_type": "markdown",
   "metadata": {
    "Collapsed": "false"
   },
   "source": [
    "## Initialization\n",
    "\n",
    "Some important variables to be used afterwards."
   ]
  },
  {
   "cell_type": "code",
   "execution_count": 9,
   "metadata": {
    "Collapsed": "false"
   },
   "outputs": [],
   "source": [
    "name = \"mercs\"\n",
    "\n",
    "root_dir = dirname(dirname(os.getcwd()))\n",
    "\n",
    "fn_conda_dep = 'dependencies-deploy.yaml'\n",
    "fn_conda_dev = 'dependencies-develop.yaml'"
   ]
  },
  {
   "cell_type": "markdown",
   "metadata": {
    "Collapsed": "false"
   },
   "source": [
    "# Introduction\n",
    "\n",
    "This cookiecutter is set up for optimal use with conda, for local dependency managment. The takeaway is this; for local dependency managment, we rely on conda and nothing else.\n",
    "\n",
    "Note that this has nothing to do with remote dependency managment. This is what you need to take care of when preparing a release of your code which goes via PyPi or alternatives. We treat that as an independent problem. Mixing remote and local dependency managment tends to add complexity instead of removing it."
   ]
  },
  {
   "cell_type": "markdown",
   "metadata": {
    "Collapsed": "false"
   },
   "source": [
    "# Workflow\n",
    "\n",
    "We distinguish between `deployment` and `development` environments. Of course, in research this is not always that useful or clear. We follow this rule of thumb:\n",
    "\n",
    "```\n",
    "Everything that should end up in pip, goes in deployment\n",
    "```\n",
    "\n",
    "Which still justifies keeping the two separated."
   ]
  },
  {
   "cell_type": "markdown",
   "metadata": {
    "Collapsed": "false"
   },
   "source": [
    "## Deployment Environment\n",
    "\n",
    "This environment is whatever an end user may need in order to use your package.\n"
   ]
  },
  {
   "cell_type": "code",
   "execution_count": 11,
   "metadata": {
    "Collapsed": "false"
   },
   "outputs": [
    {
     "name": "stdout",
     "output_type": "stream",
     "text": [
      "# conda environments:\n",
      "#\n",
      "base                  *  /cw/dtaijupiter/NoCsBack/dtai/elia/miniconda\n",
      "rwrf                     /cw/dtaijupiter/NoCsBack/dtai/elia/miniconda/envs/rwrf\n",
      "\n",
      "dependencies-deploy.yaml\n"
     ]
    }
   ],
   "source": [
    "%%bash -s \"$name\" \"$root_dir\" \"$fn_conda_dep\"\n",
    "\n",
    "source ~/.bashrc\n",
    "\n",
    "conda env list"
   ]
  },
  {
   "cell_type": "code",
   "execution_count": 13,
   "metadata": {
    "Collapsed": "false"
   },
   "outputs": [
    {
     "name": "stdout",
     "output_type": "stream",
     "text": [
      "Collecting package metadata (repodata.json): ...working... done\n",
      "Solving environment: ...working... done\n",
      "\n",
      "Downloading and Extracting Packages\n",
      "certifi-2019.11.28   | 156 KB    | ########## | 100% \n",
      "ipython_genutils-0.2 | 39 KB     | ########## | 100% \n",
      "python-3.8.0         | 39.6 MB   | ########## | 100% \n",
      "backcall-0.1.0       | 20 KB     | ########## | 100% \n",
      "six-1.13.0           | 27 KB     | ########## | 100% \n",
      "wcwidth-0.1.7        | 24 KB     | ########## | 100% \n",
      "ptyprocess-0.6.0     | 23 KB     | ########## | 100% \n",
      "jedi-0.15.1          | 708 KB    | ########## | 100% \n",
      "setuptools-42.0.2    | 654 KB    | ########## | 100% \n",
      "ipython-7.10.2       | 980 KB    | ########## | 100% \n",
      "pip-19.3.1           | 1.9 MB    | ########## | 100% \n",
      "parso-0.5.2          | 69 KB     | ########## | 100% \n",
      "pexpect-4.7.0        | 79 KB     | ########## | 100% \n",
      "pickleshare-0.7.5    | 13 KB     | ########## | 100% \n",
      "wheel-0.33.6         | 35 KB     | ########## | 100% \n",
      "traitlets-4.3.3      | 135 KB    | ########## | 100% \n",
      "Preparing transaction: ...working... done\n",
      "Verifying transaction: ...working... done\n",
      "Executing transaction: ...working... done\n",
      "Ran pip subprocess with arguments:\n",
      "['/cw/dtaijupiter/NoCsBack/dtai/elia/miniconda/envs/mercs/bin/python', '-m', 'pip', 'install', '-U', '-r', '/cw/dtaijupiter/NoCsBack/dtai/elia/mercs/condaenv.nm_iiuns.requirements.txt']\n",
      "Pip subprocess output:\n",
      "Collecting numpy\n",
      "  Downloading https://files.pythonhosted.org/packages/d7/6a/3fed132c846d1e47963f30376cc041e9dd586d286d931055ad06ff65c6c7/numpy-1.17.4-cp38-cp38-manylinux1_x86_64.whl (20.5MB)\n",
      "Collecting scipy\n",
      "  Downloading https://files.pythonhosted.org/packages/f3/08/8bdcdcd149ea41b655956feb7c19ebf7e1f561738bd5570b6ae015daf411/scipy-1.4.1-cp38-cp38-manylinux1_x86_64.whl (26.0MB)\n",
      "Collecting pandas\n",
      "  Downloading https://files.pythonhosted.org/packages/7b/fd/41698f20fd297cef2dc43a72a8ca42d149eaf7d954f1fb2bd3fc366a658d/pandas-0.25.3-cp38-cp38-manylinux1_x86_64.whl (10.4MB)\n",
      "Collecting networkx\n",
      "  Downloading https://files.pythonhosted.org/packages/41/8f/dd6a8e85946def36e4f2c69c84219af0fa5e832b018c970e92f2ad337e45/networkx-2.4-py3-none-any.whl (1.6MB)\n",
      "Collecting scikit-learn\n",
      "  Downloading https://files.pythonhosted.org/packages/6c/f8/6071da4d8ce0f9d0e42b6d9de406f9adc057864dabb945d84a8b2966a9a5/scikit_learn-0.22-cp38-cp38-manylinux1_x86_64.whl (7.0MB)\n",
      "Collecting dask\n",
      "  Downloading https://files.pythonhosted.org/packages/bf/b3/9175539d5a43b0bb1fe6d9729613a9639dd78a0e13c3fa7fc1ba702e56fa/dask-2.9.0-py3-none-any.whl (770kB)\n",
      "Collecting toolz\n",
      "  Downloading https://files.pythonhosted.org/packages/22/8e/037b9ba5c6a5739ef0dcde60578c64d49f45f64c5e5e886531bfbc39157f/toolz-0.10.0.tar.gz (49kB)\n",
      "Collecting tornado\n",
      "  Downloading https://files.pythonhosted.org/packages/30/78/2d2823598496127b21423baffaa186b668f73cd91887fcef78b6eade136b/tornado-6.0.3.tar.gz (482kB)\n",
      "Collecting pydot\n",
      "  Downloading https://files.pythonhosted.org/packages/33/d1/b1479a770f66d962f545c2101630ce1d5592d90cb4f083d38862e93d16d2/pydot-1.4.1-py2.py3-none-any.whl\n",
      "Collecting pytz>=2017.2\n",
      "  Downloading https://files.pythonhosted.org/packages/e7/f9/f0b53f88060247251bf481fa6ea62cd0d25bf1b11a87888e53ce5b7c8ad2/pytz-2019.3-py2.py3-none-any.whl (509kB)\n",
      "Collecting python-dateutil>=2.6.1\n",
      "  Downloading https://files.pythonhosted.org/packages/d4/70/d60450c3dd48ef87586924207ae8907090de0b306af2bce5d134d78615cb/python_dateutil-2.8.1-py2.py3-none-any.whl (227kB)\n",
      "Requirement already satisfied, skipping upgrade: decorator>=4.3.0 in /cw/dtaijupiter/NoCsBack/dtai/elia/miniconda/envs/mercs/lib/python3.8/site-packages (from networkx->-r /cw/dtaijupiter/NoCsBack/dtai/elia/mercs/condaenv.nm_iiuns.requirements.txt (line 4)) (4.4.1)\n",
      "Collecting joblib>=0.11\n",
      "  Downloading https://files.pythonhosted.org/packages/28/5c/cf6a2b65a321c4a209efcdf64c2689efae2cb62661f8f6f4bb28547cf1bf/joblib-0.14.1-py2.py3-none-any.whl (294kB)\n",
      "Collecting pyparsing>=2.1.4\n",
      "  Downloading https://files.pythonhosted.org/packages/c0/0c/fc2e007d9a992d997f04a80125b0f183da7fb554f1de701bbb70a8e7d479/pyparsing-2.4.5-py2.py3-none-any.whl (67kB)\n",
      "Requirement already satisfied, skipping upgrade: six>=1.5 in /cw/dtaijupiter/NoCsBack/dtai/elia/miniconda/envs/mercs/lib/python3.8/site-packages (from python-dateutil>=2.6.1->pandas->-r /cw/dtaijupiter/NoCsBack/dtai/elia/mercs/condaenv.nm_iiuns.requirements.txt (line 3)) (1.13.0)\n",
      "Building wheels for collected packages: toolz, tornado\n",
      "  Building wheel for toolz (setup.py): started\n",
      "  Building wheel for toolz (setup.py): finished with status 'done'\n",
      "  Created wheel for toolz: filename=toolz-0.10.0-cp38-none-any.whl size=55576 sha256=8c9af341e0ad2fce73e2e87ce77a410e99c5843d067771de354276d5ee505063\n",
      "  Stored in directory: /home/elia/.cache/pip/wheels/e1/8b/65/3294e5b727440250bda09e8c0153b7ba19d328f661605cb151\n",
      "  Building wheel for tornado (setup.py): started\n",
      "  Building wheel for tornado (setup.py): finished with status 'done'\n",
      "  Created wheel for tornado: filename=tornado-6.0.3-cp38-cp38-linux_x86_64.whl size=418769 sha256=0a49cffac0b89e0dc279afcc2ac93ae1ebd0f333e6158a13fafd16da8c0ec866\n",
      "  Stored in directory: /home/elia/.cache/pip/wheels/84/bf/40/2f6ef700f48401ca40e5e3dd7d0e3c0a90e064897b7fe5fc08\n",
      "Successfully built toolz tornado\n",
      "Installing collected packages: numpy, scipy, pytz, python-dateutil, pandas, networkx, joblib, scikit-learn, dask, toolz, tornado, pyparsing, pydot\n",
      "Successfully installed dask-2.9.0 joblib-0.14.1 networkx-2.4 numpy-1.17.4 pandas-0.25.3 pydot-1.4.1 pyparsing-2.4.5 python-dateutil-2.8.1 pytz-2019.3 scikit-learn-0.22 scipy-1.4.1 toolz-0.10.0 tornado-6.0.3\n",
      "\n",
      "#\n",
      "# To activate this environment, use\n",
      "#\n",
      "#     $ conda activate mercs\n",
      "#\n",
      "# To deactivate an active environment, use\n",
      "#\n",
      "#     $ conda deactivate\n",
      "\n"
     ]
    },
    {
     "name": "stderr",
     "output_type": "stream",
     "text": [
      "\n",
      "\n",
      "==> WARNING: A newer version of conda exists. <==\n",
      "  current version: 4.7.12\n",
      "  latest version: 4.8.0\n",
      "\n",
      "Please update conda by running\n",
      "\n",
      "    $ conda update -n base conda\n",
      "\n",
      "\n"
     ]
    }
   ],
   "source": [
    "%%bash -s \"$name\" \"$root_dir\" \"$fn_conda_dep\"\n",
    "\n",
    "source ~/.bashrc\n",
    "\n",
    "cd $2\n",
    "\n",
    "conda env create -f $3 -n $1"
   ]
  },
  {
   "cell_type": "markdown",
   "metadata": {
    "Collapsed": "false"
   },
   "source": [
    "## Development environment\n"
   ]
  },
  {
   "cell_type": "code",
   "execution_count": 15,
   "metadata": {
    "Collapsed": "false"
   },
   "outputs": [
    {
     "name": "stdout",
     "output_type": "stream",
     "text": [
      "Collecting package metadata (repodata.json): ...working... done\n",
      "Solving environment: ...working... done\n",
      "\n",
      "Downloading and Extracting Packages\n",
      "catboost-0.20.1      | 52.0 MB   | ########## | 100% \n",
      "wrapt-1.11.2         | 49 KB     | ########## | 100% \n",
      "more-itertools-8.0.2 | 39 KB     | ########## | 100% \n",
      "importlib_metadata-1 | 46 KB     | ########## | 100% \n",
      "astroid-2.3.3        | 292 KB    | ########## | 100% \n",
      "mccabe-0.6.1         | 14 KB     | ########## | 100% \n",
      "ipython-7.10.2       | 975 KB    | ########## | 100% \n",
      "isort-4.3.21         | 69 KB     | ########## | 100% \n",
      "joblib-0.14.1        | 201 KB    | ########## | 100% \n",
      "scipy-1.3.2          | 13.9 MB   | ########## | 100% \n",
      "pytest-5.3.2         | 370 KB    | ########## | 100% \n",
      "lightgbm-2.3.0       | 1.0 MB    | ########## | 100% \n",
      "pylint-2.4.4         | 432 KB    | ########## | 100% \n",
      "jupyterlab-1.2.4     | 2.8 MB    | ########## | 100% \n",
      "scikit-learn-0.22    | 5.3 MB    | ########## | 100% \n",
      "_py-xgboost-mutex-2. | 9 KB      | ########## | 100% \n",
      "lazy-object-proxy-1. | 31 KB     | ########## | 100% \n",
      "pyyaml-5.2           | 181 KB    | ########## | 100% \n",
      "certifi-2019.11.28   | 156 KB    | ########## | 100% \n",
      "Preparing transaction: ...working... done\n",
      "Verifying transaction: ...working... done\n",
      "Executing transaction: ...working... done\n",
      "#\n",
      "# To activate this environment, use\n",
      "#\n",
      "#     $ conda activate mercs\n",
      "#\n",
      "# To deactivate an active environment, use\n",
      "#\n",
      "#     $ conda deactivate\n",
      "\n"
     ]
    },
    {
     "name": "stderr",
     "output_type": "stream",
     "text": [
      "\n",
      "\n",
      "==> WARNING: A newer version of conda exists. <==\n",
      "  current version: 4.7.12\n",
      "  latest version: 4.8.0\n",
      "\n",
      "Please update conda by running\n",
      "\n",
      "    $ conda update -n base conda\n",
      "\n",
      "\n"
     ]
    }
   ],
   "source": [
    "%%bash -s \"$name\" \"$root_dir\" \"$fn_conda_dev\"\n",
    "\n",
    "source ~/.bashrc\n",
    "\n",
    "cd $2\n",
    "\n",
    "conda activate $1\n",
    "\n",
    "conda env update -n $1 -f $3"
   ]
  },
  {
   "cell_type": "markdown",
   "metadata": {
    "Collapsed": "false"
   },
   "source": [
    "## Jupyter kernel\n",
    "\n",
    "Expose the environment to your jupyter."
   ]
  },
  {
   "cell_type": "code",
   "execution_count": 17,
   "metadata": {
    "Collapsed": "false"
   },
   "outputs": [
    {
     "name": "stdout",
     "output_type": "stream",
     "text": [
      "Installed kernelspec mercs in /home/elia/.local/share/jupyter/kernels/mercs\n"
     ]
    }
   ],
   "source": [
    "%%bash -s \"$name\" \"$root_dir\" \"$fn_conda_dep\"\n",
    "\n",
    "source ~/.bashrc\n",
    "\n",
    "cd $2\n",
    "\n",
    "conda activate $1\n",
    "python -m ipykernel install --user --name $1 --display-name \"$1\""
   ]
  }
 ],
 "metadata": {
  "kernelspec": {
   "display_name": "mercs",
   "language": "python",
   "name": "mercs"
  },
  "language_info": {
   "codemirror_mode": {
    "name": "ipython",
    "version": 3
   },
   "file_extension": ".py",
   "mimetype": "text/x-python",
   "name": "python",
   "nbconvert_exporter": "python",
   "pygments_lexer": "ipython3",
   "version": "3.7.5"
  },
  "toc-autonumbering": true
 },
 "nbformat": 4,
 "nbformat_minor": 4
}