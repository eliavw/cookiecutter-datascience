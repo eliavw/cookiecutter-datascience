{
 "cells": [
  {
   "cell_type": "markdown",
   "metadata": {
    "Collapsed": "false"
   },
   "source": [
    "# Conda Environments\n",
    "\n",
    "This notebook automatically configures a conda environment. This notebook is typically what you run before anything else in the project. In that way, you are set up with a controlled and isolated environment for further development/research."
   ]
  },
  {
   "cell_type": "markdown",
   "metadata": {
    "Collapsed": "false"
   },
   "source": [
    "## Imports"
   ]
  },
  {
   "cell_type": "code",
   "execution_count": null,
   "metadata": {
    "Collapsed": "false"
   },
   "outputs": [],
   "source": [
    "import os\n",
    "from os.path import dirname"
   ]
  },
  {
   "cell_type": "markdown",
   "metadata": {
    "Collapsed": "false"
   },
   "source": [
    "## Initialization\n",
    "\n",
    "Some important variables to be used afterwards."
   ]
  },
  {
   "cell_type": "code",
   "execution_count": null,
   "metadata": {
    "Collapsed": "false"
   },
   "outputs": [],
   "source": [
    "name = \"{{cookiecutter.package_name}}\"\n",
    "\n",
    "root_dir = dirname(dirname(os.getcwd()))\n",
    "\n",
    "fn_conda_dep = 'dependencies-deploy.yaml'\n",
    "fn_conda_dev = 'dependencies-develop.yaml'"
   ]
  },
  {
   "cell_type": "markdown",
   "metadata": {
    "Collapsed": "false"
   },
   "source": [
    "# Introduction\n",
    "\n",
    "This cookiecutter is set up for optimal use with conda, for local dependency managment. The takeaway is this; for local dependency managment, we rely on conda and nothing else.\n",
    "\n",
    "Note that this has nothing to do with remote dependency managment. This is what you need to take care of when preparing a release of your code which goes via PyPi or alternatives. We treat that as an independent problem. Mixing remote and local dependency managment tends to add complexity instead of removing it."
   ]
  },
  {
   "cell_type": "markdown",
   "metadata": {
    "Collapsed": "false"
   },
   "source": [
    "# Workflow\n",
    "\n",
    "We distinguish between `deployment` and `development` environments. Of course, in research this is not always that useful or clear. We follow this rule of thumb:\n",
    "\n",
    "```\n",
    "Everything that should end up in pip release, goes in deployment\n",
    "```\n",
    "\n",
    "Which still justifies keeping the two separated."
   ]
  },
  {
   "cell_type": "markdown",
   "metadata": {
    "Collapsed": "false"
   },
   "source": [
    "## Deployment Environment\n",
    "\n",
    "This environment is whatever an end user may need in order to use your package.\n"
   ]
  },
  {
   "cell_type": "code",
   "execution_count": null,
   "metadata": {
    "Collapsed": "false"
   },
   "outputs": [],
   "source": [
    "%%bash -s \"$name\" \"$root_dir\" \"$fn_conda_dep\"\n",
    "\n",
    "source ~/.bashrc\n",
    "\n",
    "conda env list"
   ]
  },
  {
   "cell_type": "code",
   "execution_count": null,
   "metadata": {
    "Collapsed": "false"
   },
   "outputs": [],
   "source": [
    "%%bash -s \"$name\" \"$root_dir\" \"$fn_conda_dep\"\n",
    "\n",
    "source ~/.bashrc\n",
    "\n",
    "cd $2\n",
    "\n",
    "conda env create -f $3 -n $1"
   ]
  },
  {
   "cell_type": "markdown",
   "metadata": {},
   "source": [
    "### Installation of `AFFE` \n",
    "\n",
    "At some point, this will become better."
   ]
  },
  {
   "cell_type": "code",
   "execution_count": null,
   "metadata": {},
   "outputs": [],
   "source": [
    "%%bash -s \"$name\" \"$root_dir\"\n",
    "\n",
    "source ~/.bashrc\n",
    "\n",
    "cd $2\n",
    "\n",
    "conda activate $1\n",
    "\n",
    "pip install git+https://github.com/eliavw/affe.git"
   ]
  },
  {
   "cell_type": "markdown",
   "metadata": {
    "Collapsed": "false"
   },
   "source": [
    "## Development environment\n"
   ]
  },
  {
   "cell_type": "code",
   "execution_count": null,
   "metadata": {
    "Collapsed": "false"
   },
   "outputs": [],
   "source": [
    "%%bash -s \"$name\" \"$root_dir\" \"$fn_conda_dev\"\n",
    "\n",
    "source ~/.bashrc\n",
    "\n",
    "cd $2\n",
    "\n",
    "conda activate $1\n",
    "\n",
    "conda env update -n $1 -f $3"
   ]
  },
  {
   "cell_type": "markdown",
   "metadata": {},
   "source": [
    "### Install {{cookiecutter.package_name}}\n",
    "\n",
    "Installing the source code of this repo as a package itself. This is often quite useful."
   ]
  },
  {
   "cell_type": "code",
   "execution_count": null,
   "metadata": {},
   "outputs": [],
   "source": [
    "%%bash -s \"$name\" \"$root_dir\" \"$fn_conda_dev\"\n",
    "\n",
    "source ~/.bashrc\n",
    "\n",
    "cd $2\n",
    "\n",
    "conda activate $1\n",
    "\n",
    "python setup.py develop"
   ]
  },
  {
   "cell_type": "markdown",
   "metadata": {
    "Collapsed": "false"
   },
   "source": [
    "## Jupyter kernel\n",
    "\n",
    "Expose the environment to your jupyter."
   ]
  },
  {
   "cell_type": "code",
   "execution_count": null,
   "metadata": {
    "Collapsed": "false"
   },
   "outputs": [],
   "source": [
    "%%bash -s \"$name\" \"$root_dir\" \"$fn_conda_dep\"\n",
    "\n",
    "source ~/.bashrc\n",
    "\n",
    "cd $2\n",
    "\n",
    "conda activate $1\n",
    "python -m ipykernel install --user --name $1 --display-name \"$1\""
   ]
  }
 ],
 "metadata": {
  "kernelspec": {
   "display_name": "j-rwrf",
   "language": "python",
   "name": "j-rwrf"
  },
  "language_info": {
   "codemirror_mode": {
    "name": "ipython",
    "version": 3
   },
   "file_extension": ".py",
   "mimetype": "text/x-python",
   "name": "python",
   "nbconvert_exporter": "python",
   "pygments_lexer": "ipython3",
   "version": "3.7.5"
  },
  "toc-autonumbering": true
 },
 "nbformat": 4,
 "nbformat_minor": 4
}
