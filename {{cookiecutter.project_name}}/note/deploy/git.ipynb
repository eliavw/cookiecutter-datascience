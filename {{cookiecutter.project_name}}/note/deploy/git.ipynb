{
 "cells": [
  {
   "cell_type": "markdown",
   "metadata": {},
   "source": [
    "# Init GIT\n",
    "\n",
    "This notebook initializes a git repository, and tries to push it to the correct remote as well."
   ]
  },
  {
   "cell_type": "markdown",
   "metadata": {},
   "source": [
    "# Preliminaries"
   ]
  },
  {
   "cell_type": "markdown",
   "metadata": {},
   "source": [
    "## Imports"
   ]
  },
  {
   "cell_type": "code",
   "execution_count": 1,
   "metadata": {},
   "outputs": [],
   "source": [
    "from pathlib import Path"
   ]
  },
  {
   "cell_type": "markdown",
   "metadata": {},
   "source": [
    "## Constants\n",
    "\n",
    "Some relevant variables to be used later on."
   ]
  },
  {
   "cell_type": "code",
   "execution_count": 8,
   "metadata": {},
   "outputs": [],
   "source": [
    "root_dir = str(Path().absolute().parent.parent)\n",
    "\n",
    "project_name = \"{{cookiecutter.project_name}}\"\n",
    "github_username = \"{{cookiecutter.github_username}}\"\n",
    "\n",
    "fn_conda_dep = 'dependencies-deploy.yaml'\n",
    "fn_conda_dev = 'dependencies-develop.yaml'"
   ]
  },
  {
   "cell_type": "markdown",
   "metadata": {},
   "source": [
    "# Init Local Repo\n",
    "Crucial for reproducibility and therefore our first hook."
   ]
  },
  {
   "cell_type": "code",
   "execution_count": null,
   "metadata": {},
   "outputs": [],
   "source": [
    "%%bash -s \"$root_dir\" \n",
    "\n",
    "cd $1\n",
    "\n",
    "git init\n",
    "git add .\n",
    "git commit -m \"First commit\""
   ]
  },
  {
   "cell_type": "markdown",
   "metadata": {},
   "source": [
    "# Init Remote Rep\n",
    "\n",
    "This assumes that github.com/{{cookiecutter.github_username}}/{{cookiecutter.project_name}} exists!\n",
    "\n"
   ]
  },
  {
   "cell_type": "code",
   "execution_count": null,
   "metadata": {},
   "outputs": [],
   "source": [
    "%%bash -s \"$root_dir\" \"$github_username\" \"$project_name\" \n",
    "\n",
    "cd $1\n",
    "\n",
    "git remote add origin git@github.com:$2/$3.git\n",
    "git remote -v\n",
    "git push origin master"
   ]
  },
  {
   "cell_type": "code",
   "execution_count": null,
   "metadata": {},
   "outputs": [],
   "source": []
  }
 ],
 "metadata": {
  "kernelspec": {
   "display_name": "mercs",
   "language": "python",
   "name": "mercs"
  },
  "language_info": {
   "codemirror_mode": {
    "name": "ipython",
    "version": 3
   },
   "file_extension": ".py",
   "mimetype": "text/x-python",
   "name": "python",
   "nbconvert_exporter": "python",
   "pygments_lexer": "ipython3",
   "version": "3.8.1"
  }
 },
 "nbformat": 4,
 "nbformat_minor": 4
}
