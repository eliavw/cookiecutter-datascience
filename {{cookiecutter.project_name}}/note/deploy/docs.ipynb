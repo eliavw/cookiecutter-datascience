{
 "cells": [
  {
   "cell_type": "markdown",
   "metadata": {},
   "source": [
    "# Docs\n",
    "\n",
    "Documentation matters, this notebooks automates some of the work involved.\n"
   ]
  },
  {
   "cell_type": "markdown",
   "metadata": {},
   "source": [
    "# Preliminaries"
   ]
  },
  {
   "cell_type": "markdown",
   "metadata": {
    "collapsed": "false"
   },
   "source": [
    "## Imports"
   ]
  },
  {
   "cell_type": "code",
   "execution_count": null,
   "metadata": {
    "collapsed": true,
    "jupyter": {
     "outputs_hidden": true
    }
   },
   "outputs": [],
   "source": [
    "import os\n",
    "from os.path import dirname\n",
    "\n",
    "import getpass\n",
    "import configparser\n",
    "import semantic_version"
   ]
  },
  {
   "cell_type": "markdown",
   "metadata": {
    "collapsed": "false"
   },
   "source": [
    "## Constants\n",
    "\n",
    "Some important variables to be used afterwards."
   ]
  },
  {
   "cell_type": "code",
   "execution_count": null,
   "metadata": {
    "collapsed": true,
    "jupyter": {
     "outputs_hidden": true
    }
   },
   "outputs": [],
   "source": [
    "name = \"{{cookiecutter.package_name}}\"\n",
    "\n",
    "root_dir = dirname(dirname(os.getcwd()))\n",
    "docs_dir = os.path.join(root_dir, 'docs')"
   ]
  },
  {
   "cell_type": "markdown",
   "metadata": {},
   "source": [
    "# Tools\n",
    "\n",
    "This cookiecutter uses [Mkdocs](https://www.mkdocs.org/), with its [material](https://squidfunk.github.io/mkdocs-material/) theme. It generates clean documentation webpages from [markdown](https://en.wikipedia.org/wiki/Markdown).\n",
    "\n",
    "All the stuff that we want to communicate is written in markdown already:\n",
    "\n",
    "- readme's in the repo\n",
    "- text cells in jupyter notebooks\n",
    "- source files for the documentation site\n",
    "\n",
    "This means that we just write everything once."
   ]
  },
  {
   "cell_type": "markdown",
   "metadata": {},
   "source": [
    "# Tutorial notebooks -> Tutorial markdown documents\n",
    "\n",
    "Ay notebook written in `note/tutorial` will be exported to a markdown document and added in the `docs` folder. \n",
    "\n",
    "So, to add a clean tutorial to your documentation webpage, just build a clean notebook in the correct location."
   ]
  },
  {
   "cell_type": "code",
   "execution_count": null,
   "metadata": {
    "collapsed": true,
    "jupyter": {
     "outputs_hidden": true
    }
   },
   "outputs": [],
   "source": [
    "%%bash -s \"$root_dir\" \"$name\" \"$docs_dir\"\n",
    "\n",
    "source ~/.bashrc\n",
    "cd $1\n",
    "conda activate $2\n",
    "\n",
    "cd note/tutorial\n",
    "\n",
    "jupyter nbconvert *.ipynb --to markdown --output-dir=$3"
   ]
  },
  {
   "cell_type": "markdown",
   "metadata": {},
   "source": [
    "# Workflow\n",
    "\n",
    "The [mkdocs.yml](../../mkdocs.yml) file is the configuration file for mkdocs. \n",
    "\n",
    "There is also a demo page; [index.md](../../docs/index.md), which is the home page of the documentation website. "
   ]
  },
  {
   "cell_type": "markdown",
   "metadata": {
    "collapsed": "false"
   },
   "source": [
    "## Build\n",
    "\n",
    "For a test drive, you need to know some commands. To build your website (i.e., generate `.html` starting from your `.md` sources), you do"
   ]
  },
  {
   "cell_type": "code",
   "execution_count": null,
   "metadata": {
    "collapsed": true,
    "jupyter": {
     "outputs_hidden": true
    }
   },
   "outputs": [],
   "source": [
    "%%bash -s \"$root_dir\" \"$name\"\n",
    "\n",
    "source ~/.bashrc\n",
    "cd $1\n",
    "conda activate $2\n",
    "\n",
    "mkdocs build\n",
    "\n"
   ]
  },
  {
   "cell_type": "markdown",
   "metadata": {
    "collapsed": "false"
   },
   "source": [
    "## Preview (host locally)\n",
    "\n",
    "For a local preview, do:"
   ]
  },
  {
   "cell_type": "raw",
   "metadata": {
    "collapsed": "false"
   },
   "source": [
    "%%bash -s \"$root_dir\" \"$name\"\n",
    "\n",
    "source ~/.bashrc\n",
    "cd $1\n",
    "conda activate $2\n",
    "\n",
    "mkdocs serve"
   ]
  },
  {
   "cell_type": "markdown",
   "metadata": {
    "collapsed": "false"
   },
   "source": [
    "and surf to [localhost:8000](http://localhost:8000). This server updates dynamically, i.e. changes to source files are visible immediately."
   ]
  },
  {
   "cell_type": "markdown",
   "metadata": {
    "collapsed": "false"
   },
   "source": [
    "## Publish\n",
    "\n",
    "Making your documentation website available over the internet is made [extremely easy](https://www.mkdocs.org/user-guide/deploying-your-docs/) by mkdocs.\n",
    "\n",
    "This is hosted on [github pages](https://pages.github.com/)"
   ]
  },
  {
   "cell_type": "code",
   "execution_count": null,
   "metadata": {
    "collapsed": true,
    "jupyter": {
     "outputs_hidden": true
    }
   },
   "outputs": [],
   "source": [
    "%%bash -s \"$root_dir\" \"$name\"\n",
    "\n",
    "source ~/.bashrc\n",
    "cd $1\n",
    "conda activate $2\n",
    "\n",
    "mkdocs gh-deploy"
   ]
  },
  {
   "cell_type": "markdown",
   "metadata": {
    "collapsed": "false"
   },
   "source": [
    "and your site should be online at; [https://{{cookiecutter.github_username}}.github.io/{{cookiecutter.project_name}}](https://{{cookiecutter.github_username}}.github.io/{{cookiecutter.project_name}})\n",
    "\n",
    "What happens under the hood is:\n",
    "- `mkdocs build` is executed\n",
    "- the resulting `site` directory is pushed to the `gh pages` branch in your repo. \n",
    "\n",
    "From that point on, github takes care of the rest.\n"
   ]
  }
 ],
 "metadata": {
  "kernelspec": {
   "display_name": "mercs",
   "language": "python",
   "name": "mercs"
  },
  "language_info": {
   "codemirror_mode": {
    "name": "ipython",
    "version": 3
   },
   "file_extension": ".py",
   "mimetype": "text/x-python",
   "name": "python",
   "nbconvert_exporter": "python",
   "pygments_lexer": "ipython3",
   "version": "3.8.1"
  },
  "toc-autonumbering": true
 },
 "nbformat": 4,
 "nbformat_minor": 4
}
