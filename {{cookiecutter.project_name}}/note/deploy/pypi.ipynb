{
 "cells": [
  {
   "cell_type": "markdown",
   "metadata": {
    "Collapsed": "false"
   },
   "source": [
    "N.b.: This notebook and other deployment workflows should end up in the cookiecutter to make one-click, documented workflows to automate important tasks for all future projects."
   ]
  },
  {
   "cell_type": "markdown",
   "metadata": {
    "Collapsed": "false"
   },
   "source": [
    "# Publish to PIP\n",
    "\n",
    "Exectuable guide of how to publish your project on PyPi."
   ]
  },
  {
   "cell_type": "markdown",
   "metadata": {
    "Collapsed": "false"
   },
   "source": [
    "## Imports"
   ]
  },
  {
   "cell_type": "code",
   "execution_count": 1,
   "metadata": {
    "Collapsed": "false"
   },
   "outputs": [],
   "source": [
    "import os\n",
    "from os.path import dirname\n",
    "\n",
    "import getpass\n",
    "import configparser\n",
    "import semantic_version\n",
    "\n",
    "root_dir = dirname(dirname(os.getcwd()))\n",
    "fn_setup_cfg = os.path.join(root_dir, 'setup.cfg')"
   ]
  },
  {
   "cell_type": "markdown",
   "metadata": {
    "Collapsed": "false"
   },
   "source": [
    "## Functions"
   ]
  },
  {
   "cell_type": "code",
   "execution_count": 2,
   "metadata": {
    "Collapsed": "false"
   },
   "outputs": [],
   "source": [
    "def get_config(fn_setup_cfg):\n",
    "    config = configparser.ConfigParser()\n",
    "    config.read(fn_setup_cfg)\n",
    "    return config\n",
    "\n",
    "def update_version(fn_setup_cfg, major=False, minor=False, patch=True, verbose=True):\n",
    "    assert sum([major, minor, patch]) == 1, \"Only one version number can be changed.\"\n",
    "    \n",
    "    # Load config\n",
    "    config = get_config(fn_setup_cfg)\n",
    "    \n",
    "    # Get version\n",
    "    v = semantic_version.Version(config['metadata'].get('version', '0.0.0'))\n",
    "    \n",
    "    # Update version\n",
    "    if patch:\n",
    "        config['metadata']['version'] = str(v.next_patch())\n",
    "    elif minor:\n",
    "        config['metadata']['version'] = str(v.next_minor())\n",
    "    elif major:\n",
    "        config['metadata']['version'] = str(v.next_major())\n",
    "        \n",
    "    if verbose:\n",
    "        msg = \"\"\"\n",
    "        Version updated to: {}\n",
    "        \"\"\".format(config['metadata']['version'])\n",
    "        print(msg)\n",
    "        \n",
    "    # Save config\n",
    "    with open(fn_setup_cfg, 'w') as f:\n",
    "        config.write(f)\n",
    "    return str(config['metadata']['version'])"
   ]
  },
  {
   "cell_type": "markdown",
   "metadata": {
    "Collapsed": "false"
   },
   "source": [
    "PyPi\n",
    "----\n",
    "\n",
    "Make your project publicly available on the Python Package Index, [PyPi](https://pypi.org/). To achieve this, we need **remote dependency managment**, since you want your software to run without forcing the users to recreate your conda environments. All dependencies have to be managed, automatically, during installation. To make this work, we need to do some extra work.\n",
    "\n",
    "We follow the steps as outlined in the most basic (and official) [PyPi tutorial](https://packaging.python.org/tutorials/packaging-projects/)."
   ]
  },
  {
   "cell_type": "markdown",
   "metadata": {
    "Collapsed": "false"
   },
   "source": [
    "### Generate distribution archives\n",
    "\n",
    "Generate distribution packages for the package. These are archives that are uploaded to the Package Index and can be installed by pip."
   ]
  },
  {
   "cell_type": "code",
   "execution_count": 3,
   "metadata": {
    "Collapsed": "false"
   },
   "outputs": [
    {
     "name": "stdout",
     "output_type": "stream",
     "text": [
      "Root directory is /run/user/1000/gvfs/sftp:host=frost.cs.kuleuven.be,user=elia/cw/dtailocal/repos/mercs\n"
     ]
    }
   ],
   "source": [
    "print(\"Root directory is {}\".format(root_dir))"
   ]
  },
  {
   "cell_type": "markdown",
   "metadata": {
    "Collapsed": "false"
   },
   "source": [
    "We also update the version. PIP does not accept another identical file, since it keeps a complete history. Thus, we always must at least update the patch in order to push our thing to PIP. We do so automatically by adapting the versioning number in the `setup.cfg` file."
   ]
  },
  {
   "cell_type": "code",
   "execution_count": 4,
   "metadata": {
    "Collapsed": "false"
   },
   "outputs": [
    {
     "name": "stdout",
     "output_type": "stream",
     "text": [
      "\n",
      "        Version updated to: 0.0.28\n",
      "        \n"
     ]
    }
   ],
   "source": [
    "version = update_version(fn_setup_cfg, patch=True)"
   ]
  },
  {
   "cell_type": "code",
   "execution_count": 5,
   "metadata": {
    "Collapsed": "false"
   },
   "outputs": [
    {
     "name": "stdout",
     "output_type": "stream",
     "text": [
      "running sdist\n",
      "running egg_info\n",
      "writing src/mercs.egg-info/PKG-INFO\n",
      "writing dependency_links to src/mercs.egg-info/dependency_links.txt\n",
      "writing requirements to src/mercs.egg-info/requires.txt\n",
      "writing top-level names to src/mercs.egg-info/top_level.txt\n",
      "reading manifest file 'src/mercs.egg-info/SOURCES.txt'\n",
      "writing manifest file 'src/mercs.egg-info/SOURCES.txt'\n",
      "running check\n",
      "creating mercs-0.0.28\n",
      "creating mercs-0.0.28/src\n",
      "creating mercs-0.0.28/src/mercs\n",
      "creating mercs-0.0.28/src/mercs.egg-info\n",
      "creating mercs-0.0.28/src/mercs/algo\n",
      "creating mercs-0.0.28/src/mercs/composition\n",
      "creating mercs-0.0.28/src/mercs/core\n",
      "creating mercs-0.0.28/src/mercs/graph\n",
      "creating mercs-0.0.28/src/mercs/tests\n",
      "creating mercs-0.0.28/src/mercs/utils\n",
      "creating mercs-0.0.28/src/mercs/visuals\n",
      "copying files to mercs-0.0.28...\n",
      "copying README.md -> mercs-0.0.28\n",
      "copying setup.cfg -> mercs-0.0.28\n",
      "copying setup.py -> mercs-0.0.28\n",
      "copying src/mercs/__init__.py -> mercs-0.0.28/src/mercs\n",
      "copying src/mercs/skeleton.py -> mercs-0.0.28/src/mercs\n",
      "copying src/mercs.egg-info/PKG-INFO -> mercs-0.0.28/src/mercs.egg-info\n",
      "copying src/mercs.egg-info/SOURCES.txt -> mercs-0.0.28/src/mercs.egg-info\n",
      "copying src/mercs.egg-info/dependency_links.txt -> mercs-0.0.28/src/mercs.egg-info\n",
      "copying src/mercs.egg-info/not-zip-safe -> mercs-0.0.28/src/mercs.egg-info\n",
      "copying src/mercs.egg-info/requires.txt -> mercs-0.0.28/src/mercs.egg-info\n",
      "copying src/mercs.egg-info/top_level.txt -> mercs-0.0.28/src/mercs.egg-info\n",
      "copying src/mercs/algo/__init__.py -> mercs-0.0.28/src/mercs/algo\n",
      "copying src/mercs/algo/evaluation.py -> mercs-0.0.28/src/mercs/algo\n",
      "copying src/mercs/algo/imputation.py -> mercs-0.0.28/src/mercs/algo\n",
      "copying src/mercs/algo/induction.py -> mercs-0.0.28/src/mercs/algo\n",
      "copying src/mercs/algo/inference.py -> mercs-0.0.28/src/mercs/algo\n",
      "copying src/mercs/algo/inference_v3.py -> mercs-0.0.28/src/mercs/algo\n",
      "copying src/mercs/algo/new_inference.py -> mercs-0.0.28/src/mercs/algo\n",
      "copying src/mercs/algo/new_prediction.py -> mercs-0.0.28/src/mercs/algo\n",
      "copying src/mercs/algo/prediction.py -> mercs-0.0.28/src/mercs/algo\n",
      "copying src/mercs/algo/selection.py -> mercs-0.0.28/src/mercs/algo\n",
      "copying src/mercs/algo/vector_prediction.py -> mercs-0.0.28/src/mercs/algo\n",
      "copying src/mercs/composition/CanonicalModel.py -> mercs-0.0.28/src/mercs/composition\n",
      "copying src/mercs/composition/CompositeModel.py -> mercs-0.0.28/src/mercs/composition\n",
      "copying src/mercs/composition/NewCompositeModel.py -> mercs-0.0.28/src/mercs/composition\n",
      "copying src/mercs/composition/__init__.py -> mercs-0.0.28/src/mercs/composition\n",
      "copying src/mercs/composition/compose.py -> mercs-0.0.28/src/mercs/composition\n",
      "copying src/mercs/core/Mercs.py -> mercs-0.0.28/src/mercs/core\n",
      "copying src/mercs/core/__init__.py -> mercs-0.0.28/src/mercs/core\n",
      "copying src/mercs/graph/__init__.py -> mercs-0.0.28/src/mercs/graph\n",
      "copying src/mercs/graph/graphviz.py -> mercs-0.0.28/src/mercs/graph\n",
      "copying src/mercs/graph/network.py -> mercs-0.0.28/src/mercs/graph\n",
      "copying src/mercs/graph/q_diagram.py -> mercs-0.0.28/src/mercs/graph\n",
      "copying src/mercs/tests/__init__.py -> mercs-0.0.28/src/mercs/tests\n",
      "copying src/mercs/tests/setup.py -> mercs-0.0.28/src/mercs/tests\n",
      "copying src/mercs/utils/__init__.py -> mercs-0.0.28/src/mercs/utils\n",
      "copying src/mercs/utils/debug.py -> mercs-0.0.28/src/mercs/utils\n",
      "copying src/mercs/utils/encoding.py -> mercs-0.0.28/src/mercs/utils\n",
      "copying src/mercs/utils/inference_tools.py -> mercs-0.0.28/src/mercs/utils\n",
      "copying src/mercs/visuals/__init__.py -> mercs-0.0.28/src/mercs/visuals\n",
      "copying src/mercs/visuals/diagrams.py -> mercs-0.0.28/src/mercs/visuals\n",
      "Writing mercs-0.0.28/setup.cfg\n",
      "Creating tar archive\n",
      "removing 'mercs-0.0.28' (and everything under it)\n",
      "running bdist_wheel\n",
      "running build\n",
      "running build_py\n",
      "copying src/mercs/algo/evaluation.py -> build/lib/mercs/algo\n",
      "installing to build/bdist.linux-x86_64/wheel\n",
      "running install\n",
      "running install_lib\n",
      "creating build/bdist.linux-x86_64/wheel\n",
      "creating build/bdist.linux-x86_64/wheel/mercs\n",
      "creating build/bdist.linux-x86_64/wheel/mercs/visuals\n",
      "copying build/lib/mercs/visuals/diagrams.py -> build/bdist.linux-x86_64/wheel/mercs/visuals\n",
      "copying build/lib/mercs/visuals/__init__.py -> build/bdist.linux-x86_64/wheel/mercs/visuals\n",
      "creating build/bdist.linux-x86_64/wheel/mercs/graph\n",
      "copying build/lib/mercs/graph/network.py -> build/bdist.linux-x86_64/wheel/mercs/graph\n",
      "copying build/lib/mercs/graph/graphviz.py -> build/bdist.linux-x86_64/wheel/mercs/graph\n",
      "copying build/lib/mercs/graph/__init__.py -> build/bdist.linux-x86_64/wheel/mercs/graph\n",
      "copying build/lib/mercs/graph/q_diagram.py -> build/bdist.linux-x86_64/wheel/mercs/graph\n",
      "copying build/lib/mercs/graph/gt.py -> build/bdist.linux-x86_64/wheel/mercs/graph\n",
      "creating build/bdist.linux-x86_64/wheel/mercs/utils\n",
      "copying build/lib/mercs/utils/debug.py -> build/bdist.linux-x86_64/wheel/mercs/utils\n",
      "copying build/lib/mercs/utils/__init__.py -> build/bdist.linux-x86_64/wheel/mercs/utils\n",
      "copying build/lib/mercs/utils/inference_tools.py -> build/bdist.linux-x86_64/wheel/mercs/utils\n",
      "copying build/lib/mercs/utils/encoding.py -> build/bdist.linux-x86_64/wheel/mercs/utils\n",
      "creating build/bdist.linux-x86_64/wheel/mercs/algo\n",
      "copying build/lib/mercs/algo/evaluation.py -> build/bdist.linux-x86_64/wheel/mercs/algo\n",
      "copying build/lib/mercs/algo/__init__.py -> build/bdist.linux-x86_64/wheel/mercs/algo\n",
      "copying build/lib/mercs/algo/selection.py -> build/bdist.linux-x86_64/wheel/mercs/algo\n",
      "copying build/lib/mercs/algo/induction.py -> build/bdist.linux-x86_64/wheel/mercs/algo\n",
      "copying build/lib/mercs/algo/new_inference.py -> build/bdist.linux-x86_64/wheel/mercs/algo\n",
      "copying build/lib/mercs/algo/turbo_inference.py -> build/bdist.linux-x86_64/wheel/mercs/algo\n",
      "copying build/lib/mercs/algo/vector_prediction.py -> build/bdist.linux-x86_64/wheel/mercs/algo\n",
      "copying build/lib/mercs/algo/imputation.py -> build/bdist.linux-x86_64/wheel/mercs/algo\n",
      "copying build/lib/mercs/algo/inference_v3.py -> build/bdist.linux-x86_64/wheel/mercs/algo\n",
      "copying build/lib/mercs/algo/prediction.py -> build/bdist.linux-x86_64/wheel/mercs/algo\n",
      "copying build/lib/mercs/algo/inference.py -> build/bdist.linux-x86_64/wheel/mercs/algo\n",
      "copying build/lib/mercs/algo/new_prediction.py -> build/bdist.linux-x86_64/wheel/mercs/algo\n",
      "creating build/bdist.linux-x86_64/wheel/mercs/core\n",
      "copying build/lib/mercs/core/Mercs.py -> build/bdist.linux-x86_64/wheel/mercs/core\n",
      "copying build/lib/mercs/core/__init__.py -> build/bdist.linux-x86_64/wheel/mercs/core\n",
      "copying build/lib/mercs/__init__.py -> build/bdist.linux-x86_64/wheel/mercs\n",
      "creating build/bdist.linux-x86_64/wheel/mercs/tests\n",
      "copying build/lib/mercs/tests/setup.py -> build/bdist.linux-x86_64/wheel/mercs/tests\n",
      "copying build/lib/mercs/tests/__init__.py -> build/bdist.linux-x86_64/wheel/mercs/tests\n",
      "creating build/bdist.linux-x86_64/wheel/mercs/composition\n",
      "copying build/lib/mercs/composition/CompositeModel.py -> build/bdist.linux-x86_64/wheel/mercs/composition\n",
      "copying build/lib/mercs/composition/CanonicalModel.py -> build/bdist.linux-x86_64/wheel/mercs/composition\n",
      "copying build/lib/mercs/composition/NewCompositeModel.py -> build/bdist.linux-x86_64/wheel/mercs/composition\n",
      "copying build/lib/mercs/composition/__init__.py -> build/bdist.linux-x86_64/wheel/mercs/composition\n",
      "copying build/lib/mercs/composition/compose.py -> build/bdist.linux-x86_64/wheel/mercs/composition\n",
      "copying build/lib/mercs/skeleton.py -> build/bdist.linux-x86_64/wheel/mercs\n",
      "running install_egg_info\n",
      "Copying src/mercs.egg-info to build/bdist.linux-x86_64/wheel/mercs-0.0.28-py3.7.egg-info\n",
      "running install_scripts\n",
      "adding license file \"LICENSE.txt\" (matched pattern \"LICEN[CS]E*\")\n",
      "adding license file \"AUTHORS.rst\" (matched pattern \"AUTHORS*\")\n",
      "creating build/bdist.linux-x86_64/wheel/mercs-0.0.28.dist-info/WHEEL\n",
      "creating 'dist/mercs-0.0.28-py3-none-any.whl' and adding 'build/bdist.linux-x86_64/wheel' to it\n",
      "adding 'mercs/__init__.py'\n",
      "adding 'mercs/skeleton.py'\n",
      "adding 'mercs/algo/__init__.py'\n",
      "adding 'mercs/algo/evaluation.py'\n",
      "adding 'mercs/algo/imputation.py'\n",
      "adding 'mercs/algo/induction.py'\n",
      "adding 'mercs/algo/inference.py'\n",
      "adding 'mercs/algo/inference_v3.py'\n",
      "adding 'mercs/algo/new_inference.py'\n",
      "adding 'mercs/algo/new_prediction.py'\n",
      "adding 'mercs/algo/prediction.py'\n",
      "adding 'mercs/algo/selection.py'\n",
      "adding 'mercs/algo/turbo_inference.py'\n",
      "adding 'mercs/algo/vector_prediction.py'\n",
      "adding 'mercs/composition/CanonicalModel.py'\n",
      "adding 'mercs/composition/CompositeModel.py'\n",
      "adding 'mercs/composition/NewCompositeModel.py'\n",
      "adding 'mercs/composition/__init__.py'\n",
      "adding 'mercs/composition/compose.py'\n",
      "adding 'mercs/core/Mercs.py'\n",
      "adding 'mercs/core/__init__.py'\n",
      "adding 'mercs/graph/__init__.py'\n",
      "adding 'mercs/graph/graphviz.py'\n",
      "adding 'mercs/graph/gt.py'\n",
      "adding 'mercs/graph/network.py'\n",
      "adding 'mercs/graph/q_diagram.py'\n",
      "adding 'mercs/tests/__init__.py'\n",
      "adding 'mercs/tests/setup.py'\n",
      "adding 'mercs/utils/__init__.py'\n",
      "adding 'mercs/utils/debug.py'\n",
      "adding 'mercs/utils/encoding.py'\n",
      "adding 'mercs/utils/inference_tools.py'\n",
      "adding 'mercs/visuals/__init__.py'\n",
      "adding 'mercs/visuals/diagrams.py'\n",
      "adding 'mercs-0.0.28.dist-info/AUTHORS.rst'\n",
      "adding 'mercs-0.0.28.dist-info/LICENSE.txt'\n",
      "adding 'mercs-0.0.28.dist-info/METADATA'\n",
      "adding 'mercs-0.0.28.dist-info/WHEEL'\n",
      "adding 'mercs-0.0.28.dist-info/top_level.txt'\n",
      "adding 'mercs-0.0.28.dist-info/RECORD'\n",
      "removing build/bdist.linux-x86_64/wheel\n"
     ]
    }
   ],
   "source": [
    "%%bash -s \"$root_dir\"\n",
    "\n",
    "cd $1\n",
    "\n",
    "python setup.py sdist bdist_wheel"
   ]
  },
  {
   "cell_type": "markdown",
   "metadata": {
    "Collapsed": "false"
   },
   "source": [
    "### Upload to test-PyPi\n",
    "\n",
    "After this, your package can be uploaded to the python package index. To see if it works on PyPi test server, the following"
   ]
  },
  {
   "cell_type": "code",
   "execution_count": 6,
   "metadata": {
    "Collapsed": "false"
   },
   "outputs": [
    {
     "name": "stdin",
     "output_type": "stream",
     "text": [
      " ······\n",
      " ··········\n"
     ]
    }
   ],
   "source": [
    "username = getpass.getpass()\n",
    "pwd = getpass.getpass()"
   ]
  },
  {
   "cell_type": "code",
   "execution_count": 7,
   "metadata": {
    "Collapsed": "false"
   },
   "outputs": [
    {
     "name": "stdout",
     "output_type": "stream",
     "text": [
      "Uploading distributions to https://test.pypi.org/legacy/\n",
      "Uploading mercs-0.0.28-py3-none-any.whl\n",
      "100%|██████████| 53.8k/53.8k [00:01<00:00, 28.5kB/s]\n",
      "Uploading mercs-0.0.28.tar.gz\n",
      "100%|██████████| 38.7k/38.7k [00:01<00:00, 25.2kB/s]\n",
      "\n",
      "View at:\n",
      "https://test.pypi.org/project/mercs/0.0.28/\n"
     ]
    },
    {
     "name": "stderr",
     "output_type": "stream",
     "text": [
      "\n",
      "cd $1\n",
      "\n",
      "python -m twine upload --repository-url https://test.pypi.org/legacy/ dist/*$4* -u $2 -p $3\n"
     ]
    }
   ],
   "source": [
    "%%bash --verbose -s \"$root_dir\" \"$username\" \"$pwd\" \"$version\"\n",
    "\n",
    "cd $1\n",
    "\n",
    "python -m twine upload --repository-url https://test.pypi.org/legacy/ dist/*$4* -u $2 -p $3"
   ]
  },
  {
   "cell_type": "markdown",
   "metadata": {
    "Collapsed": "false"
   },
   "source": [
    "# Upload to Real PyPi\n",
    "\n",
    "Test PyPi really does not work very well.."
   ]
  },
  {
   "cell_type": "code",
   "execution_count": 8,
   "metadata": {
    "Collapsed": "false"
   },
   "outputs": [
    {
     "name": "stdout",
     "output_type": "stream",
     "text": [
      "Uploading distributions to https://upload.pypi.org/legacy/\n",
      "Uploading mercs-0.0.28-py3-none-any.whl\n",
      "100%|██████████| 53.8k/53.8k [00:02<00:00, 25.7kB/s]\n",
      "Uploading mercs-0.0.28.tar.gz\n",
      "100%|██████████| 38.7k/38.7k [00:01<00:00, 22.8kB/s]\n",
      "\n",
      "View at:\n",
      "https://pypi.org/project/mercs/0.0.28/\n"
     ]
    },
    {
     "name": "stderr",
     "output_type": "stream",
     "text": [
      "\n",
      "cd $1\n",
      "\n",
      "python -m twine upload dist/*$4* -u $2 -p $3\n"
     ]
    }
   ],
   "source": [
    "%%bash --verbose -s \"$root_dir\" \"$username\" \"$pwd\" \"$version\"\n",
    "\n",
    "cd $1\n",
    "\n",
    "python -m twine upload dist/*$4* -u $2 -p $3"
   ]
  }
 ],
 "metadata": {
  "kernelspec": {
   "display_name": "j-rwrf",
   "language": "python",
   "name": "j-rwrf"
  },
  "language_info": {
   "codemirror_mode": {
    "name": "ipython",
    "version": 3
   },
   "file_extension": ".py",
   "mimetype": "text/x-python",
   "name": "python",
   "nbconvert_exporter": "python",
   "pygments_lexer": "ipython3",
   "version": "3.7.5"
  }
 },
 "nbformat": 4,
 "nbformat_minor": 4
}
